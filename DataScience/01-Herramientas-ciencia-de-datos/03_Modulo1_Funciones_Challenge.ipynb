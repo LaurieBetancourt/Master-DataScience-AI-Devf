{
  "nbformat": 4,
  "nbformat_minor": 0,
  "metadata": {
    "colab": {
      "name": "03 Modulo1: Funciones - Challenge.ipynb",
      "provenance": [],
      "authorship_tag": "ABX9TyN0KzBCgZJmMmXf9sRZlTc1",
      "include_colab_link": true
    },
    "kernelspec": {
      "name": "python3",
      "display_name": "Python 3"
    },
    "language_info": {
      "name": "python"
    }
  },
  "cells": [
    {
      "cell_type": "markdown",
      "metadata": {
        "id": "view-in-github",
        "colab_type": "text"
      },
      "source": [
        "<a href=\"https://colab.research.google.com/github/LaurieBetancourt/Master-DataScience-AI-Devf/blob/main/DataScience/01-Herramientas-ciencia-de-datos/03_Modulo1_Funciones_Challenge.ipynb\" target=\"_parent\"><img src=\"https://colab.research.google.com/assets/colab-badge.svg\" alt=\"Open In Colab\"/></a>"
      ]
    },
    {
      "cell_type": "markdown",
      "source": [
        "# Modulo1: Funciones\n",
        "*Laura E. Betancourt*\n",
        "\n",
        "Enlaces: \n",
        "- [w3resource](https://www.w3resource.com/python-exercises/python-functions-exercises.php) \n",
        "- [pynative](https://pynative.com/python-functions-exercise-with-solutions/)\n",
        "- [Kaggle](https://www.kaggle.com/code/lebetancourt/exercise-functions-and-getting-help/edit)\n",
        "\n"
      ],
      "metadata": {
        "id": "TvGDZKjWLYb-"
      }
    },
    {
      "cell_type": "markdown",
      "source": [
        "# Ejercicios de w3resource\n",
        "\n",
        "## 1 Write a Python function to find the Max of three numbers.\n",
        "Escriba una función de Python para encontrar el máximo de tres números"
      ],
      "metadata": {
        "id": "I_oUEe9WMzUw"
      }
    },
    {
      "cell_type": "code",
      "execution_count": null,
      "metadata": {
        "id": "5JDDwAzGLNiC",
        "colab": {
          "base_uri": "https://localhost:8080/"
        },
        "outputId": "a30a0005-f648-49f5-d7bc-ce0a1a8fc6da"
      },
      "outputs": [
        {
          "output_type": "execute_result",
          "data": {
            "text/plain": [
              "51"
            ]
          },
          "metadata": {},
          "execution_count": 6
        }
      ],
      "source": [
        "def fun_maximo(x,y,z):\n",
        "  if (x > y) and (x > z):\n",
        "    return x\n",
        "  elif (y > x) and (y > z):\n",
        "    return y\n",
        "  else:\n",
        "    return z\n",
        "\n",
        "fun_maximo(30,14,51)"
      ]
    },
    {
      "cell_type": "markdown",
      "source": [
        "## 2 Write a Python function to sum all the numbers in a list.\n",
        "- Sample List : (8, 2, 3, 0, 7)\n",
        "- Expected Output : 20\n",
        "\n",
        "\n",
        "Escriba una función de Python para sumar todos los números en una lista"
      ],
      "metadata": {
        "id": "1bdlvHTPf9S1"
      }
    },
    {
      "cell_type": "code",
      "source": [
        "def suma_lista(lista):\n",
        "  sumatoria = 0\n",
        "  for i in lista:\n",
        "    sumatoria = i + sumatoria\n",
        "\n",
        "  return sumatoria\n",
        "\n",
        "sample = [8, 2, 3, 0, 7]\n",
        "\n",
        "suma_lista(sample)"
      ],
      "metadata": {
        "colab": {
          "base_uri": "https://localhost:8080/"
        },
        "id": "gbBynDf-gHcg",
        "outputId": "7f402a8d-0ae6-45aa-c750-52efe201d2bf"
      },
      "execution_count": null,
      "outputs": [
        {
          "output_type": "execute_result",
          "data": {
            "text/plain": [
              "20"
            ]
          },
          "metadata": {},
          "execution_count": 11
        }
      ]
    },
    {
      "cell_type": "markdown",
      "source": [
        "## 3 Write a Python function to multiply all the numbers in a list.\n",
        "\n",
        "- Sample List : (8, 2, 3, -1, 7)\n",
        "- Expected Output : -336\n",
        "\n",
        "Escriba una función de Python para multiplicar todos los números en una lista"
      ],
      "metadata": {
        "id": "TTMsUuQOh844"
      }
    },
    {
      "cell_type": "code",
      "source": [
        "def multi_lista(lista):\n",
        "  multi = 1\n",
        "  for i in lista:\n",
        "    multi = i * multi\n",
        "\n",
        "  return multi\n",
        "\n",
        "sample = [8, 2, 3, -1, 7]\n",
        "\n",
        "multi_lista(sample)"
      ],
      "metadata": {
        "colab": {
          "base_uri": "https://localhost:8080/"
        },
        "id": "pCLcyAmAjpaE",
        "outputId": "20b1d27b-6ce5-4bde-dde9-4e19ee091f54"
      },
      "execution_count": null,
      "outputs": [
        {
          "output_type": "execute_result",
          "data": {
            "text/plain": [
              "-336"
            ]
          },
          "metadata": {},
          "execution_count": 20
        }
      ]
    },
    {
      "cell_type": "markdown",
      "source": [
        "## 4 Write a Python program to reverse a string.\n",
        "\n",
        "- Sample String : \"1234abcd\"\n",
        "- Expected Output : \"dcba4321\"\n",
        "\n",
        "Escriba un programa en Python para invertir una cadena."
      ],
      "metadata": {
        "id": "AZMHHXO0kJ0I"
      }
    },
    {
      "cell_type": "code",
      "source": [
        "def reverso_string(palabra):\n",
        "\n",
        "  indice = len(palabra)\n",
        "  cont = 0\n",
        "  reverso = \"\"\n",
        "  for i in palabra:\n",
        "    cont = 1 + cont\n",
        "    # reverso = reverso + palabra[indice-cont] ;tambien se pude usar esto, es importante el orden\n",
        "    # reverso = palabra[indice-cont] + reverso ;no funciona, pues coloca el mismo orden que el original\n",
        "    reverso += palabra[indice-cont] \n",
        "  return reverso\n",
        " \n",
        "sample = \"1234abcd\"\n",
        "\n",
        "reverso_string(sample) "
      ],
      "metadata": {
        "colab": {
          "base_uri": "https://localhost:8080/",
          "height": 36
        },
        "id": "zPvUThBcknif",
        "outputId": "b981dd80-6216-46cb-b478-52cb1981abf3"
      },
      "execution_count": 28,
      "outputs": [
        {
          "output_type": "execute_result",
          "data": {
            "text/plain": [
              "'dcba4321'"
            ],
            "application/vnd.google.colaboratory.intrinsic+json": {
              "type": "string"
            }
          },
          "metadata": {},
          "execution_count": 28
        }
      ]
    },
    {
      "cell_type": "markdown",
      "source": [
        "## 5 Write a Python function to calculate the factorial of a number (a non-negative integer). The function accepts the number as an argument.\n",
        "\n",
        "Escribe una función de Python para calcular el factorial de un número (un entero no negativo). La función acepta el número como argumento."
      ],
      "metadata": {
        "id": "JLy5zbaPupLz"
      }
    },
    {
      "cell_type": "code",
      "source": [
        "def funcionfactorial(numero):\n",
        "  factorial = 1\n",
        "  for i in range(2,numero + 1):\n",
        "    factorial = i*factorial\n",
        "  return factorial\n",
        "\n",
        "funcionfactorial(7)"
      ],
      "metadata": {
        "colab": {
          "base_uri": "https://localhost:8080/"
        },
        "id": "ND8XAJUYuy-S",
        "outputId": "45732dcc-78ad-42f3-b39b-b940d8d7576e"
      },
      "execution_count": null,
      "outputs": [
        {
          "output_type": "execute_result",
          "data": {
            "text/plain": [
              "5040"
            ]
          },
          "metadata": {},
          "execution_count": 55
        }
      ]
    },
    {
      "cell_type": "markdown",
      "source": [
        "## 6 Write a Python function to check whether a number falls in a given range.\n",
        "Escriba una función de Python para verificar si un número cae en un rango dado."
      ],
      "metadata": {
        "id": "coQxm-PGy-JB"
      }
    },
    {
      "cell_type": "code",
      "source": [
        "def dentro_rango(numero,ini_rango = 0, fin_rango = 100):\n",
        "  if numero in range(ini_rango,fin_rango):\n",
        "    r = \"El numero esta dentro del rango\"\n",
        "  else:\n",
        "    r = \"El numero no esta dentro del rango\"\n",
        "  return r\n",
        "\n",
        "# tienes que definir el rango, pero en caso de que no lo hagas\n",
        "# el rango por default es de 0 a 100\n",
        "p1 = dentro_rango(110)\n",
        "\n",
        "p2 = dentro_rango(5,2,10)\n",
        "\n",
        "print(p1)\n",
        "print(p2)"
      ],
      "metadata": {
        "colab": {
          "base_uri": "https://localhost:8080/"
        },
        "id": "7rgm9ScCzJ7r",
        "outputId": "4a33d2f1-0d46-4902-8cd7-62be75de1891"
      },
      "execution_count": null,
      "outputs": [
        {
          "output_type": "stream",
          "name": "stdout",
          "text": [
            "El numero no esta dentro del rango\n",
            "El numero esta dentro del rango\n"
          ]
        }
      ]
    },
    {
      "cell_type": "markdown",
      "source": [
        "## 7 Write a Python function that accepts a string and calculate the number of upper case letters and lower case letters.\n",
        "\n",
        "- Sample String : 'The quick Brow Fox'\n",
        "- Expected Output :\n",
        "  - No. of Upper case characters : 3\n",
        "  - No. of Lower case Characters : 12\n",
        "\n",
        "Escriba una función de Python que acepte una cadena y calcule el número de letras mayúsculas y minúsculas."
      ],
      "metadata": {
        "id": "8Us7QN7i0_Zf"
      }
    },
    {
      "cell_type": "code",
      "source": [
        "def fun_mayus_minus(frase):\n",
        "  mayus = 0\n",
        "  minus = 0\n",
        "  for letra in frase:\n",
        "    if letra.islower():\n",
        "      minus += 1\n",
        "    elif letra.isupper():\n",
        "      mayus += 1\n",
        "  r = \"El numero de mayusculas es: {} y el numero de minusculas es: {}\".format(mayus,minus)\n",
        "\n",
        "  return r\n",
        "\n",
        "f='The quick Brow Fox'\n",
        "fun_mayus_minus(f)"
      ],
      "metadata": {
        "colab": {
          "base_uri": "https://localhost:8080/",
          "height": 36
        },
        "id": "OUBn5V6D6Zcw",
        "outputId": "4fa78634-b00c-42a0-d48c-619279e268c8"
      },
      "execution_count": null,
      "outputs": [
        {
          "output_type": "execute_result",
          "data": {
            "text/plain": [
              "'El numero de mayusculas es: 3 y el numero de minusculas es: 12'"
            ],
            "application/vnd.google.colaboratory.intrinsic+json": {
              "type": "string"
            }
          },
          "metadata": {},
          "execution_count": 72
        }
      ]
    },
    {
      "cell_type": "markdown",
      "source": [
        "## 8 Write a Python function that takes a list and returns a new list with unique elements of the first list.\n",
        "\n",
        "- Sample List : [1,2,3,3,3,3,4,5]\n",
        "- Unique List : [1, 2, 3, 4, 5]\n",
        "\n",
        "Escriba una función de Python que tome una lista y devuelva una nueva lista con elementos únicos de la primera lista."
      ],
      "metadata": {
        "id": "mb_wtsuf7-ZU"
      }
    },
    {
      "cell_type": "code",
      "source": [
        "def lista_unicos(lista):\n",
        "  unicos = []\n",
        "  for i in lista:\n",
        "    if i in unicos:\n",
        "      continue\n",
        "    else:\n",
        "      unicos.append(i) \n",
        "  return unicos\n",
        "\n",
        "sample = [1,2,3,3,3,3,4,5]\n",
        "sample2 = [1,1,1,1,5,5,5,5,6,7,1,5,3,3,4,7,1,2,4,0,8]\n",
        "\n",
        "lista_unicos(sample)"
      ],
      "metadata": {
        "colab": {
          "base_uri": "https://localhost:8080/"
        },
        "id": "oonuzive9Sx6",
        "outputId": "fab9593c-006a-4061-886b-7ba049402a44"
      },
      "execution_count": null,
      "outputs": [
        {
          "output_type": "execute_result",
          "data": {
            "text/plain": [
              "[1, 2, 3, 4, 5]"
            ]
          },
          "metadata": {},
          "execution_count": 79
        }
      ]
    },
    {
      "cell_type": "markdown",
      "source": [
        "## 9 Write a Python function that takes a number as a parameter and check the number is prime or not.\n",
        "\n",
        "Escriba una función de Python que tome un número como parámetro y verifique si el número es primo o no.\n",
        "\n",
        "**Nota**: Un número primo (o primo) es un número natural mayor que 1 y que no tiene divisores positivos distintos de 1 y él mismo."
      ],
      "metadata": {
        "id": "ATpkweNEA66l"
      }
    },
    {
      "cell_type": "code",
      "source": [
        "def fun_primos(numero):\n",
        "  if numero == 1:\n",
        "    r = \"No es primo\"\n",
        "  elif numero ==2:\n",
        "    r = \"Es numero primo\"\n",
        "  else:\n",
        "    for i in range(2,numero):\n",
        "      if (numero % i == 0):\n",
        "        return \"No es primo\"\n",
        "    return \"Es primo\"\n",
        "\n",
        "fun_primos(5)\n"
      ],
      "metadata": {
        "colab": {
          "base_uri": "https://localhost:8080/",
          "height": 36
        },
        "id": "MluCPdvuBQVJ",
        "outputId": "8bb610e1-c611-4d06-bd4c-4e83b391ee5a"
      },
      "execution_count": null,
      "outputs": [
        {
          "output_type": "execute_result",
          "data": {
            "text/plain": [
              "'Es primo'"
            ],
            "application/vnd.google.colaboratory.intrinsic+json": {
              "type": "string"
            }
          },
          "metadata": {},
          "execution_count": 88
        }
      ]
    },
    {
      "cell_type": "markdown",
      "source": [
        "## 10 Write a Python program to print the even numbers from a given list.\n",
        "\n",
        "- Sample List : [1, 2, 3, 4, 5, 6, 7, 8, 9]\n",
        "- Expected Result : [2, 4, 6, 8]\n",
        "\n",
        "Escriba un programa en Python para imprimir los números pares de una lista dada."
      ],
      "metadata": {
        "id": "QnE0gWxcRnRv"
      }
    },
    {
      "cell_type": "code",
      "source": [
        "def fun_pares(lista):\n",
        "  lista_pares = []\n",
        "  for i in lista:\n",
        "    if (i % 2 == 0):\n",
        "      lista_pares.append(i)  \n",
        "  return lista_pares\n",
        "\n",
        "sample = [1, 2, 3, 4, 5, 6, 7, 8, 9]\n",
        "\n",
        "fun_pares(sample)"
      ],
      "metadata": {
        "colab": {
          "base_uri": "https://localhost:8080/"
        },
        "id": "1kUF9ktfR653",
        "outputId": "548fe8b8-5b30-4665-d19d-8c1d8bfe153e"
      },
      "execution_count": null,
      "outputs": [
        {
          "output_type": "execute_result",
          "data": {
            "text/plain": [
              "[2, 4, 6, 8]"
            ]
          },
          "metadata": {},
          "execution_count": 89
        }
      ]
    },
    {
      "cell_type": "markdown",
      "source": [
        "## 11 Write a Python function to check whether a number is perfect or not. Go to the editor\n",
        "\n",
        "*According to Wikipedia* : In number theory, a perfect number is a positive integer that is equal to the sum of its proper positive divisors, that is, the sum of its positive divisors excluding the number itself (also known as its aliquot sum). Equivalently, a perfect number is a number that is half the sum of all of its positive divisors (including itself).\n",
        "\n",
        "\n",
        "Escriba una función de Python para verificar si un número es perfecto o no. Ir al editor.\n",
        "\n",
        "Según Wikipedia: En teoría de números, un número perfecto es un entero positivo que es igual a la suma de sus divisores positivos propios, es decir, la suma de sus divisores positivos excluyendo el número en sí (también conocido como su suma alícuota). De manera equivalente, un número perfecto es un número que es la mitad de la suma de todos sus divisores positivos (incluido él mismo)."
      ],
      "metadata": {
        "id": "kuJPao4_R18Z"
      }
    },
    {
      "cell_type": "markdown",
      "source": [
        "- [Numero perfecto](https://elpais.com/elpais/2017/11/22/el_aleph/1511371589_460642.html#:~:text=Un%20n%C3%BAmero%20perfecto%20es%20un,el%20apelativo%20de%20%E2%80%9Cperfectos%E2%80%9D%3F)\n",
        "- [Lista numeros perfectos](http://www.vaxasoftware.com/doc_edu/mat/numperfe_esp.pdf)"
      ],
      "metadata": {
        "id": "t4Qq-4ajHFX1"
      }
    },
    {
      "cell_type": "code",
      "source": [
        "def num_perfecto(num):\n",
        "  n = []\n",
        "  div = []\n",
        "  for i in range(1,num):\n",
        "    if (num % i == 0):\n",
        "      n.append(i)\n",
        "      div.append(i)\n",
        "  suma = sum(n)\n",
        "  #verificar si es perfecto\n",
        "  if suma == num:\n",
        "    r = \"{} Es perfecto y sus divisores son {}\".format(num,div)\n",
        "  else: \n",
        "    r = \"{} No es perfecto\".format(num)\n",
        "  \n",
        "  return r\n",
        "\n",
        "# El 28 es numero perfecto\n",
        "num_perfecto(28)"
      ],
      "metadata": {
        "id": "g7sJyhwSUnw8",
        "colab": {
          "base_uri": "https://localhost:8080/",
          "height": 36
        },
        "outputId": "48a3568e-de80-44bb-a211-f82605cd9062"
      },
      "execution_count": 27,
      "outputs": [
        {
          "output_type": "execute_result",
          "data": {
            "text/plain": [
              "'28 Es perfecto y sus divisores son [1, 2, 4, 7, 14]'"
            ],
            "application/vnd.google.colaboratory.intrinsic+json": {
              "type": "string"
            }
          },
          "metadata": {},
          "execution_count": 27
        }
      ]
    },
    {
      "cell_type": "markdown",
      "source": [
        "## 12 Write a Python function that checks whether a passed string is palindrome or not.\n",
        "\n",
        "Note: A palindrome is a word, phrase, or sequence that reads the same backward as forward, e.g., madam or nurses run\n",
        "\n",
        "---\n",
        "Escriba una función de Python que verifique si una cadena pasada es palíndromo o no.\n",
        "\n",
        "Nota: Un palíndromo es una palabra, frase o secuencia que se lee igual hacia atrás que hacia adelante, por ejemplo, señora o enfermeras corren\n"
      ],
      "metadata": {
        "id": "j7x0cWofaLLH"
      }
    },
    {
      "cell_type": "code",
      "source": [
        "# reutilizando funcion reverso_string() ejercicio 4\n",
        "def fun_palindromo(palabra):\n",
        "  p1 = palabra.lower()\n",
        "  p2 = reverso_string(palabra).lower()\n",
        "\n",
        "  if p2 == p1:\n",
        "    r = \"{} es palindromo\".format(palabra)\n",
        "  else:\n",
        "    r = \"{} No es palindromo\".format(palabra)\n",
        "  return r\n",
        "\n",
        "fun_palindromo(\"Madam\")"
      ],
      "metadata": {
        "id": "nrJAQQlwbdzU",
        "colab": {
          "base_uri": "https://localhost:8080/",
          "height": 36
        },
        "outputId": "a91f6a2d-0250-4ff4-dc0e-5d72524ed0c1"
      },
      "execution_count": 32,
      "outputs": [
        {
          "output_type": "execute_result",
          "data": {
            "text/plain": [
              "'Madam es palindromo'"
            ],
            "application/vnd.google.colaboratory.intrinsic+json": {
              "type": "string"
            }
          },
          "metadata": {},
          "execution_count": 32
        }
      ]
    },
    {
      "cell_type": "markdown",
      "source": [
        "## 13 Write a Python function that prints out the first n rows of Pascal's triangle\n",
        "\n",
        "Note : Pascal's triangle is an arithmetic and geometric figure first imagined by Blaise Pascal.\n",
        "\n",
        "Sample Pascal's triangle :\n",
        "\n"
      ],
      "metadata": {
        "id": "juEIR8QhY2tm"
      }
    },
    {
      "cell_type": "markdown",
      "source": [
        "![image.png](data:image/png;base64,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)"
      ],
      "metadata": {
        "id": "l2yyBGv_ZIPU"
      }
    },
    {
      "cell_type": "code",
      "source": [
        "def fun_pascal(n):\n",
        "  for i in range(n):\n",
        "    for j in range(n-i+1):\n",
        " \n",
        "        # espacio\n",
        "        print(end=\" \")\n",
        " \n",
        "    for j in range(i+1):\n",
        " \n",
        "        # nCr = n!/((n-r)!*r!)\n",
        "        print(factorial(i)//(factorial(j)*factorial(i-j)), end=\" \")\n",
        " \n",
        "    # linea nueva\n",
        "    print()\n",
        "\n",
        "fun_pascal(10)"
      ],
      "metadata": {
        "colab": {
          "base_uri": "https://localhost:8080/"
        },
        "id": "RC0WXw3aZiqV",
        "outputId": "f2bff387-b0f2-408d-81fa-d97f133b8614"
      },
      "execution_count": null,
      "outputs": [
        {
          "output_type": "stream",
          "name": "stdout",
          "text": [
            "           1 \n",
            "          1 1 \n",
            "         1 2 1 \n",
            "        1 3 3 1 \n",
            "       1 4 6 4 1 \n",
            "      1 5 10 10 5 1 \n",
            "     1 6 15 20 15 6 1 \n",
            "    1 7 21 35 35 21 7 1 \n",
            "   1 8 28 56 70 56 28 8 1 \n",
            "  1 9 36 84 126 126 84 36 9 1 \n"
          ]
        }
      ]
    },
    {
      "cell_type": "markdown",
      "source": [
        "## 14 Write a Python function to check whether a string is a pangram or not.\n",
        "\n",
        "**Note** : Pangrams are words or sentences containing every letter of the alphabet at least once.\n",
        "For example : \"The quick brown fox jumps over the lazy dog\"\n",
        "\n",
        "---\n",
        "\n",
        "Escriba una función de Python para verificar si una cadena es un pangrama o no.\n",
        "\n",
        "Los pangramas son palabras u oraciones que contienen cada letra del alfabeto al menos una vez.\n",
        "Por ejemplo: \"El veloz zorro marrón salta sobre el perro perezoso\""
      ],
      "metadata": {
        "id": "GIPWt4Gi7EnM"
      }
    },
    {
      "cell_type": "code",
      "source": [
        "import string\n",
        "import sys\n",
        "\n",
        "def fun_pentagrama(frase):\n",
        "  frase = frase.lower()\n",
        "  abc = string.ascii_lowercase + \"ñ\"\n",
        "\n",
        "  for letra in abc:\n",
        "    if letra not in frase:\n",
        "      r = \"No es un pentagrama\"\n",
        "      return r\n",
        "  return \"Es un pentagrama\"\n",
        "\n",
        "f0 = \"hola\"\n",
        "f1 = \"El cadáver de Wamba, rey godo de España, fue exhumado y trasladado en una caja de zinc que pesó un kilo\"\n",
        "f2 = \"abcdefghijklmnñopqrstuvwxyz\"\n",
        "f3 = \"El veloz murciélago hindú comía feliz cardillo y kiwi. La cigüeña tocaba el saxofón detrás del palenque de paja\"\n",
        "fun_pentagrama(f3)"
      ],
      "metadata": {
        "colab": {
          "base_uri": "https://localhost:8080/",
          "height": 36
        },
        "id": "QhjFtyZJ7pRu",
        "outputId": "57acacad-c59e-402f-b166-9d1dddb7a361"
      },
      "execution_count": 36,
      "outputs": [
        {
          "output_type": "execute_result",
          "data": {
            "text/plain": [
              "'Es un pentagrama'"
            ],
            "application/vnd.google.colaboratory.intrinsic+json": {
              "type": "string"
            }
          },
          "metadata": {},
          "execution_count": 36
        }
      ]
    },
    {
      "cell_type": "markdown",
      "source": [
        "## 15 Write a Python program that accepts a hyphen-separated sequence of words as input and prints the words in a hyphen-separated sequence after sorting them alphabetically.\n",
        "\n",
        "- Sample Items : green-red-yellow-black-white\n",
        "- Expected Result : black-green-red-white-yellow\n",
        "\n",
        "Escriba un programa de Python que acepte una secuencia de palabras separadas por guiones como entrada e imprima las palabras en una secuencia separada por guiones después de ordenarlas alfabéticamente."
      ],
      "metadata": {
        "id": "yayY7t9x7pus"
      }
    },
    {
      "cell_type": "markdown",
      "source": [
        "- `sort()` [Sort](https://j2logo.com/python/ordenar-una-lista-en-python/#:~:text=La%20forma%20m%C3%A1s%20sencilla%20de,()%20de%20la%20clase%20list%20.&text=Para%20listas%20que%20contienen%20elementos,el%20int%C3%A9rprete%20lance%20un%20error.)\n",
        "- `join()` [join](https://www.delftstack.com/es/howto/python/how-to-convert-a-list-to-string/)"
      ],
      "metadata": {
        "id": "1-kpr-dqY3k7"
      }
    },
    {
      "cell_type": "code",
      "source": [
        "from os import listdir\n",
        "def fun_ordenar(items):\n",
        "  lista = items.split(\"-\")\n",
        "  lista.sort()\n",
        "  r = \"-\".join(lista)\n",
        "  return r\n",
        "\n",
        "f4 = \"green-red-yellow-black-white\"\n",
        "fun_ordenar(f4)"
      ],
      "metadata": {
        "colab": {
          "base_uri": "https://localhost:8080/",
          "height": 36
        },
        "id": "mAYXUkXC8GAi",
        "outputId": "58fea984-82db-40f5-de17-a98370ecae9f"
      },
      "execution_count": 47,
      "outputs": [
        {
          "output_type": "execute_result",
          "data": {
            "text/plain": [
              "'black-green-red-white-yellow'"
            ],
            "application/vnd.google.colaboratory.intrinsic+json": {
              "type": "string"
            }
          },
          "metadata": {},
          "execution_count": 47
        }
      ]
    },
    {
      "cell_type": "markdown",
      "source": [
        "## 16 Write a Python function to create and print a list where the values are square of numbers between 1 and 30 (both included).\n",
        "\n",
        "Escriba una función de Python para crear e imprimir una lista donde los valores sean cuadrados de números entre 1 y 30 (ambos incluidos)."
      ],
      "metadata": {
        "id": "sifzz0zr9cOT"
      }
    },
    {
      "cell_type": "markdown",
      "source": [
        "- [random](https://j2logo.com/python/generar-numeros-aleatorios-en-python/)"
      ],
      "metadata": {
        "id": "tum1V9Sdfc7J"
      }
    },
    {
      "cell_type": "code",
      "source": [
        "import random as rnd\n",
        "\n",
        "def fun_cuadrados(n):\n",
        "  numeros = []\n",
        "  for i in range(0,n):\n",
        "    num = rnd.randint(1,30)\n",
        "    numeros.append(num)\n",
        "  cuadrados = [x**2 for x in numeros]\n",
        "  r = \"Lista de numeros: {} y sus cuadrados son: {}\".format(numeros,cuadrados)\n",
        "  return r\n",
        "\n",
        "fun_cuadrados(4)"
      ],
      "metadata": {
        "colab": {
          "base_uri": "https://localhost:8080/",
          "height": 36
        },
        "id": "cUcYl0Kc92VP",
        "outputId": "b5d5b253-dab8-4f77-dcee-077f08bffae8"
      },
      "execution_count": 51,
      "outputs": [
        {
          "output_type": "execute_result",
          "data": {
            "text/plain": [
              "'Lista de numeros: [13, 7, 8, 8] y sus cuadrados son: [169, 49, 64, 64]'"
            ],
            "application/vnd.google.colaboratory.intrinsic+json": {
              "type": "string"
            }
          },
          "metadata": {},
          "execution_count": 51
        }
      ]
    },
    {
      "cell_type": "markdown",
      "source": [
        "## 17 Write a Python program to make a chain of function decorators (bold, italic, underline etc.) in Python\n",
        "\n",
        "Escriba un programa de Python para hacer una cadena de funciones decorativas (negrita, cursiva, subrayado, etc.) en Python."
      ],
      "metadata": {
        "id": "4HNE-Z7X9kBw"
      }
    },
    {
      "cell_type": "markdown",
      "source": [
        "- [formato](https://foroayuda.es/como-imprimir-texto-en-negrita-en-el-ejemplo-de-codigo-de-python/)"
      ],
      "metadata": {
        "id": "vv8lMXb2pU9R"
      }
    },
    {
      "cell_type": "code",
      "source": [
        "from __future__ import unicode_literals, print_function\n",
        "from prompt_toolkit import print_formatted_text, HTML\n",
        "\n",
        "def fun_formatoString(frase,formato = \"negrita\"):\n",
        "  if formato == \"negrita\":\n",
        "    r = \"<b>\" + frase + \"</b>\"\n",
        "    r = print_formatted_text(HTML(r))\n",
        "    return r\n",
        "  elif formato == \"cursiva\":\n",
        "    r = \"<i>\" + frase + \"</i>\"\n",
        "    r = print_formatted_text(HTML(r))\n",
        "    return r\n",
        "  elif formato == \"subraydao\":\n",
        "    r = \"<u>\" + frase + \"</u>\"\n",
        "    r = print_formatted_text(HTML(r))\n",
        "    return r\n",
        "\n",
        "\n",
        "f5 = \"frase negrita\"\n",
        "fun_formatoString(f5,\"cursiva\")"
      ],
      "metadata": {
        "id": "P1cqYYYe92xv"
      },
      "execution_count": 64,
      "outputs": []
    },
    {
      "cell_type": "markdown",
      "source": [
        "## 18 Write a Python program to execute a string containing Python code. \n",
        "\n",
        "Escriba un programa de Python para ejecutar una cadena que contenga código de Python."
      ],
      "metadata": {
        "id": "F3_JPMHf9tdQ"
      }
    },
    {
      "cell_type": "markdown",
      "source": [
        "- `exec()` [exec](https://www.programiz.com/python-programming/methods/built-in/exec)"
      ],
      "metadata": {
        "id": "SnLdt_SLqlBk"
      }
    },
    {
      "cell_type": "code",
      "source": [
        "def fun_codigo(cod):\n",
        "  exec(cod)\n",
        "\n",
        "frase = \"probando funcion\"\n",
        "codigo = \"print(frase)\"\n",
        "\n",
        "fun_codigo(codigo)"
      ],
      "metadata": {
        "colab": {
          "base_uri": "https://localhost:8080/"
        },
        "id": "cCtzgasM93P-",
        "outputId": "37856c03-0957-4548-903a-2806b41f590a"
      },
      "execution_count": 66,
      "outputs": [
        {
          "output_type": "stream",
          "name": "stdout",
          "text": [
            "probando funcion\n"
          ]
        }
      ]
    },
    {
      "cell_type": "markdown",
      "source": [
        "## 19 Write a Python program to access a function inside a function.\n",
        "\n",
        "Escriba un programa de Python para acceder a una función dentro de una función."
      ],
      "metadata": {
        "id": "Yt0nFSoN9y_o"
      }
    },
    {
      "cell_type": "code",
      "source": [
        "def fun_maxx(num1,num2):\n",
        "  # usando la funcion max()\n",
        "  r = max(num1,num2)\n",
        "  return r\n",
        "\n",
        "fun_maxx(1,9)\n",
        "fun_maxx(-23,6)"
      ],
      "metadata": {
        "colab": {
          "base_uri": "https://localhost:8080/"
        },
        "id": "9x1k2m9j93ol",
        "outputId": "6dea0a50-1c7c-470d-870b-b17a9e58cb6d"
      },
      "execution_count": 3,
      "outputs": [
        {
          "output_type": "execute_result",
          "data": {
            "text/plain": [
              "6"
            ]
          },
          "metadata": {},
          "execution_count": 3
        }
      ]
    },
    {
      "cell_type": "markdown",
      "source": [
        "## 20 Write a Python program to detect the number of local variables declared in a function. \n",
        "\n",
        "Escriba un programa en Python para detectar el número de variables locales declaradas en una función."
      ],
      "metadata": {
        "id": "Kn6uBuWb938g"
      }
    },
    {
      "cell_type": "code",
      "source": [
        "def fun_NumVar():\n",
        "  # reutilizando ejercicio 1\n",
        "  x = 1\n",
        "  y = 5\n",
        "  z = 9 \n",
        "  if (x > y) and (x > z):\n",
        "    r = x\n",
        "  elif (y > x) and (y > z):\n",
        "    r = y\n",
        "  else:\n",
        "    r = z\n",
        "\n",
        "# comprobar variables  \n",
        "fun_NumVar.__code__.co_nlocals\n"
      ],
      "metadata": {
        "colab": {
          "base_uri": "https://localhost:8080/"
        },
        "id": "tQ8GaDuo99dX",
        "outputId": "1fe3e486-88de-495a-ba1f-9d7212886f22"
      },
      "execution_count": 16,
      "outputs": [
        {
          "output_type": "execute_result",
          "data": {
            "text/plain": [
              "4"
            ]
          },
          "metadata": {},
          "execution_count": 16
        }
      ]
    },
    {
      "cell_type": "markdown",
      "source": [
        "## 21 Write a Python program that invoke a given function after specific milliseconds. \n",
        "\n",
        "Escriba un programa de Python que invoque una función dada después de milisegundos específicos."
      ],
      "metadata": {
        "id": "DlzzWRjU96VN"
      }
    },
    {
      "cell_type": "markdown",
      "source": [
        "- [Time](https://www.freecodecamp.org/espanol/news/como-hacer-un-retraso-en-python-usando-la-funcion-sleep/)\n",
        "- [Time 2](https://www.geeksforgeeks.org/how-to-check-the-execution-time-of-python-script/)"
      ],
      "metadata": {
        "id": "JQ1cJT3CHMWy"
      }
    },
    {
      "cell_type": "code",
      "source": [
        "import time as tm\n",
        "\n",
        "def fun_esperar(seg,n1,n2):\n",
        "  # calcualr tiempo\n",
        "  time1 = tm.time()\n",
        "  msegs = tm.sleep(seg/1000)\n",
        "  time2 = tm.time()\n",
        "\n",
        "  r = fun_maxx(n1,2)\n",
        "  tiempo =round(time2 - time1, 7)\n",
        "\n",
        "  return print(\"milisegundos: \",tiempo)\n",
        "\n",
        "fun_esperar(7,3,4)"
      ],
      "metadata": {
        "colab": {
          "base_uri": "https://localhost:8080/"
        },
        "id": "MsmJu4HZ-Ry-",
        "outputId": "8e7b407f-67ff-43de-d026-b4f7cd4f7c87"
      },
      "execution_count": 15,
      "outputs": [
        {
          "output_type": "stream",
          "name": "stdout",
          "text": [
            "milisegundos:  0.0071738\n"
          ]
        }
      ]
    }
  ]
}