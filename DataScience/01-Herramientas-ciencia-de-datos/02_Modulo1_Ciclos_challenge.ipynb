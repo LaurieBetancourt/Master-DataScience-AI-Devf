{
  "nbformat": 4,
  "nbformat_minor": 0,
  "metadata": {
    "colab": {
      "provenance": [],
      "collapsed_sections": [],
      "include_colab_link": true
    },
    "kernelspec": {
      "name": "python3",
      "display_name": "Python 3"
    },
    "language_info": {
      "name": "python"
    }
  },
  "cells": [
    {
      "cell_type": "markdown",
      "metadata": {
        "id": "view-in-github",
        "colab_type": "text"
      },
      "source": [
        "<a href=\"https://colab.research.google.com/github/LaurieBetancourt/Master-DataScience-AI-Devf/blob/main/DataScience/01-Herramientas-ciencia-de-datos/02_Modulo1_Ciclos_challenge.ipynb\" target=\"_parent\"><img src=\"https://colab.research.google.com/assets/colab-badge.svg\" alt=\"Open In Colab\"/></a>"
      ]
    },
    {
      "cell_type": "markdown",
      "source": [
        "# Modulo 1: Challenge Ciclos (Resuelto)\n",
        "*12/08/2022*\n",
        "\n",
        "\n",
        "\n",
        "```\n",
        "newlist = [<expression> for <item> in <iterable> if <condition == True>]\n",
        "```\n",
        "\n",
        "**TIPS:**\n",
        "- [LINK 1](https://www.redeszone.net/2017/02/23/curso-python-volumen-vi-sentencias-condicionales/)\n",
        "- [LINK 2](https://codingornot.com/07-python-ciclos-ejemplos)"
      ],
      "metadata": {
        "id": "laPUxkFr5eN8"
      }
    },
    {
      "cell_type": "markdown",
      "metadata": {
        "id": "VEn_SLPyboN0"
      },
      "source": [
        "## Ciclos\n"
      ]
    },
    {
      "cell_type": "markdown",
      "metadata": {
        "id": "Ltf91jwLSB_d"
      },
      "source": [
        "Lee con atención las instrucciones en los siguientes ejercicios y ejecuta:"
      ]
    },
    {
      "cell_type": "markdown",
      "metadata": {
        "id": "8CXLWwF2TS5D"
      },
      "source": [
        "### 1. Escribe un ciclo que permita imprimir los números del 1 al 10"
      ]
    },
    {
      "cell_type": "markdown",
      "source": [
        "#### Forma 1"
      ],
      "metadata": {
        "id": "FIkgQKb85yOF"
      }
    },
    {
      "cell_type": "code",
      "metadata": {
        "id": "wAOmpofLR1d5",
        "colab": {
          "base_uri": "https://localhost:8080/"
        },
        "outputId": "26f80394-97a4-4e1d-d450-f2e08baa4377"
      },
      "source": [
        "for i in range(1,11):\n",
        "  print(i)"
      ],
      "execution_count": 1,
      "outputs": [
        {
          "output_type": "stream",
          "name": "stdout",
          "text": [
            "1\n",
            "2\n",
            "3\n",
            "4\n",
            "5\n",
            "6\n",
            "7\n",
            "8\n",
            "9\n",
            "10\n"
          ]
        }
      ]
    },
    {
      "cell_type": "markdown",
      "source": [
        "#### Forma 2"
      ],
      "metadata": {
        "id": "yBZp1R7-55P-"
      }
    },
    {
      "cell_type": "code",
      "source": [
        "## Otra forma mas eficiente usando 'List Comprehensions'\n",
        "lista1 = [print(x) for x in range(1,11)]"
      ],
      "metadata": {
        "colab": {
          "base_uri": "https://localhost:8080/"
        },
        "id": "GlrtIcis22wO",
        "outputId": "cee4028b-f1c8-44a0-9bff-287528c1e3bc"
      },
      "execution_count": 2,
      "outputs": [
        {
          "output_type": "stream",
          "name": "stdout",
          "text": [
            "1\n",
            "2\n",
            "3\n",
            "4\n",
            "5\n",
            "6\n",
            "7\n",
            "8\n",
            "9\n",
            "10\n"
          ]
        }
      ]
    },
    {
      "cell_type": "markdown",
      "metadata": {
        "id": "JGlH_p9ll3yO"
      },
      "source": [
        "### 2. Escribe un ciclo que imprima los números pares entre el 30 y el 50 (incluyendo el 30 y excluyendo el 50)"
      ]
    },
    {
      "cell_type": "markdown",
      "source": [
        "#### Forma 1"
      ],
      "metadata": {
        "id": "KjpG9T-x7clJ"
      }
    },
    {
      "cell_type": "code",
      "source": [
        "nums = []\n",
        "for i in range(31,50):\n",
        "  nums.append(i)\n",
        "pares = [print(x) for x in nums if x % 2 == 0]\n"
      ],
      "metadata": {
        "colab": {
          "base_uri": "https://localhost:8080/"
        },
        "id": "-9CGePYHw-jR",
        "outputId": "704931bc-14f9-429a-c46f-32209ae5ff87"
      },
      "execution_count": 3,
      "outputs": [
        {
          "output_type": "stream",
          "name": "stdout",
          "text": [
            "32\n",
            "34\n",
            "36\n",
            "38\n",
            "40\n",
            "42\n",
            "44\n",
            "46\n",
            "48\n"
          ]
        }
      ]
    },
    {
      "cell_type": "markdown",
      "source": [
        "#### Forma 2\n",
        "\n",
        "La siguiente forma de resolverlo puede estar mal si es que se busca usar algun tipo de condicional para excluir al 30 y 50. Yo solo cambie el rango de iteración. "
      ],
      "metadata": {
        "id": "PzZMhVqh7fga"
      }
    },
    {
      "cell_type": "code",
      "source": [
        "## Esta es una forma mas eficiente\n",
        "## Aqui se hace uso del concepto List Comprehensions\n",
        "## incorpore el range(30,50) dentro de la funcion\n",
        "## x % 2 == 0 porque queremos obtener los numeros pares\n",
        "## ... los numero pares tienen residuo 0\n",
        "\n",
        "pares = [print(x) for x in range(31,50) if x % 2 == 0]"
      ],
      "metadata": {
        "colab": {
          "base_uri": "https://localhost:8080/"
        },
        "id": "6oYQRC7R14S9",
        "outputId": "656e61bd-d377-416b-8bf6-572e0a1091cf"
      },
      "execution_count": 4,
      "outputs": [
        {
          "output_type": "stream",
          "name": "stdout",
          "text": [
            "32\n",
            "34\n",
            "36\n",
            "38\n",
            "40\n",
            "42\n",
            "44\n",
            "46\n",
            "48\n"
          ]
        }
      ]
    },
    {
      "cell_type": "markdown",
      "source": [
        "#### Forma 4 \n",
        "La siguiente forma usa condicionales para poder descartar los valores de 30 y 50"
      ],
      "metadata": {
        "id": "7L0ePL2elP5r"
      }
    },
    {
      "cell_type": "code",
      "source": [
        "## mod debe ser igual a cero porque los pares tienen residuo '0'\n",
        "## cuando mod sea '0', entonces el valor de 'i' sera guardado en una variable\n",
        "## con el nombre 'par'\n",
        "\n",
        "par = 0\n",
        "mod = 0\n",
        "for i in range(30,50):\n",
        "  \n",
        "  if (i != 30) and (i != 50):\n",
        "    mod = i%2\n",
        "    par = i\n",
        "  if mod == 0:\n",
        "    print(par)\n"
      ],
      "metadata": {
        "colab": {
          "base_uri": "https://localhost:8080/"
        },
        "id": "Mq5jHV13gi23",
        "outputId": "1fe9c6aa-4e0b-417f-ab41-ff7321eded5a"
      },
      "execution_count": 6,
      "outputs": [
        {
          "output_type": "stream",
          "name": "stdout",
          "text": [
            "0\n",
            "32\n",
            "34\n",
            "36\n",
            "38\n",
            "40\n",
            "42\n",
            "44\n",
            "46\n",
            "48\n"
          ]
        }
      ]
    },
    {
      "cell_type": "markdown",
      "metadata": {
        "id": "cCqs1tjHNpv4"
      },
      "source": [
        "### 3. Escribe un ciclo que imprima los valores entre el 3 y el 8 en pasos de 2 en 2."
      ]
    },
    {
      "cell_type": "code",
      "source": [
        "#lista1 = [x for x in range(1,11)]\n",
        "lista2 = []\n",
        "lista2 = [print(x) for x in range(3,9,2)]"
      ],
      "metadata": {
        "id": "mXaZeuth3rJq",
        "colab": {
          "base_uri": "https://localhost:8080/"
        },
        "outputId": "801d2cc5-bd72-4893-a242-df190698a174"
      },
      "execution_count": 7,
      "outputs": [
        {
          "output_type": "stream",
          "name": "stdout",
          "text": [
            "3\n",
            "5\n",
            "7\n"
          ]
        }
      ]
    },
    {
      "cell_type": "markdown",
      "metadata": {
        "id": "nTis6gKvoNkm"
      },
      "source": [
        "### 4. Escribe un ciclo que recorra la siguiente lista e imprima cada nombre de pokemon:"
      ]
    },
    {
      "cell_type": "code",
      "metadata": {
        "id": "C2B4nzcENgB7"
      },
      "source": [
        "pokemon = []\n",
        "pokemon = ['Bulbasaur', 'Ivysaur', 'Squirtle', 'Venusaur', 'Charmander', 'Squirtle', 'Charmeleon', 'Pidgey', 'Pikachu', 'Squirtle']"
      ],
      "execution_count": 8,
      "outputs": []
    },
    {
      "cell_type": "code",
      "metadata": {
        "id": "l-hgO3AFkVzk",
        "colab": {
          "base_uri": "https://localhost:8080/"
        },
        "outputId": "b37bd43e-d9ea-4a5f-e34f-f86c72aafb82"
      },
      "source": [
        "## de nuevo, esto es usando List Comprehensions\n",
        "lista3 = []\n",
        "lista3 = [print(x) for x in pokemon]"
      ],
      "execution_count": 9,
      "outputs": [
        {
          "output_type": "stream",
          "name": "stdout",
          "text": [
            "Bulbasaur\n",
            "Ivysaur\n",
            "Squirtle\n",
            "Venusaur\n",
            "Charmander\n",
            "Squirtle\n",
            "Charmeleon\n",
            "Pidgey\n",
            "Pikachu\n",
            "Squirtle\n"
          ]
        }
      ]
    },
    {
      "cell_type": "markdown",
      "metadata": {
        "id": "h7VTsi7Lh3C-"
      },
      "source": [
        "### 5. Escribe un ciclo que recorra la lista pokemon. En caso de encontrarnos con el nombre 'Squirtle' al iterar la lista, imprima un mensaje con el siguiente formato:\n",
        "\n",
        "index - pokemon - Vamo a calmarno\n",
        "\n",
        "Donde:\n",
        "- index es número de posición en la lista donde encontramos 'Squirtle'. Debe ser una variable.\n",
        "- pokemon es el nombre del pokemon que estamos buscando\n",
        "- \"Vamo a calmarno\" es la frase de nuestro pokemon. "
      ]
    },
    {
      "cell_type": "markdown",
      "source": [
        "#### Forma 1"
      ],
      "metadata": {
        "id": "DxoKk7dVYyUJ"
      }
    },
    {
      "cell_type": "code",
      "source": [
        "## k es u contador por separado del usado en el ciclo for\n",
        "## El ciclo itera en cada uno de los elementos de la lista\n",
        "## si encuentra una coincidencia con \"Squirtle\" en determinado \n",
        "## indice 'i', imprime un mensaje:\n",
        "## El contador 'k', el elemento de la lista de pokemon del indice 'i'\n",
        "## y el string \"Vamo a calmarno\"\n",
        "k = -1\n",
        "for i in pokemon:\n",
        "  k = 1+k\n",
        "  if \"Squirtle\" in i:\n",
        "    print(i,k,\"Vamo a calmarno\")"
      ],
      "metadata": {
        "id": "HGQpKurI_ERj",
        "colab": {
          "base_uri": "https://localhost:8080/"
        },
        "outputId": "f392f295-c702-4732-bb70-b2c84e86049f"
      },
      "execution_count": 13,
      "outputs": [
        {
          "output_type": "stream",
          "name": "stdout",
          "text": [
            "Squirtle 2 Vamo a calmarno\n",
            "Squirtle 5 Vamo a calmarno\n",
            "Squirtle 9 Vamo a calmarno\n"
          ]
        }
      ]
    },
    {
      "cell_type": "markdown",
      "metadata": {
        "id": "HOwNy5VOorNy"
      },
      "source": [
        "### 6. Del 0 al 20, muestra los valores en este rango de de 3 en 3, mediante un ciclo while (incluyendo al 20). Utiliza un condicional IF dentro del ciclo para detenerlo (utiliza break)."
      ]
    },
    {
      "cell_type": "code",
      "metadata": {
        "id": "mZx6iGmeoqEA",
        "colab": {
          "base_uri": "https://localhost:8080/"
        },
        "outputId": "e65b2dea-7049-4bb4-b31c-9be77c18daea"
      },
      "source": [
        "i = 0\n",
        "rangos = list(range(0,20,3))\n",
        "\n",
        "while i <= 51:\n",
        "  if i in rangos:\n",
        "    print(i)\n",
        "  \n",
        "  if i == 20:\n",
        "    break\n",
        "  i += 1"
      ],
      "execution_count": 50,
      "outputs": [
        {
          "output_type": "stream",
          "name": "stdout",
          "text": [
            "0\n",
            "3\n",
            "6\n",
            "9\n",
            "12\n",
            "15\n",
            "18\n"
          ]
        }
      ]
    },
    {
      "cell_type": "markdown",
      "metadata": {
        "id": "ato2HirpOAy9"
      },
      "source": [
        "### 7. Repite el ejercicio del punto 6 pero utilizando sólo la condicional del while."
      ]
    },
    {
      "cell_type": "code",
      "metadata": {
        "id": "r4NtOzm3op94",
        "colab": {
          "base_uri": "https://localhost:8080/"
        },
        "outputId": "3c821bf7-9fc3-4f2e-8035-590f2f4dbee8"
      },
      "source": [
        "i = 0\n",
        "rangos = []\n",
        "rangos = list(range(0,20,3))\n",
        "\n",
        "while i <= 6:\n",
        "  print(rangos[i])\n",
        "  i += 1\n"
      ],
      "execution_count": 62,
      "outputs": [
        {
          "output_type": "stream",
          "name": "stdout",
          "text": [
            "0\n",
            "3\n",
            "6\n",
            "9\n",
            "12\n",
            "15\n",
            "18\n"
          ]
        }
      ]
    },
    {
      "cell_type": "markdown",
      "metadata": {
        "id": "5W25SYZeORtE"
      },
      "source": [
        "### 8. Escribe un ciclo para imprimir los números impares entre el 0 y el 10. Utiliza una condicional junto con la palabra reservada \"continue\"."
      ]
    },
    {
      "cell_type": "code",
      "metadata": {
        "id": "mTpYdCzFop7s",
        "colab": {
          "base_uri": "https://localhost:8080/"
        },
        "outputId": "d76f8529-35b3-46b4-99e7-65576db7a267"
      },
      "source": [
        "for i in range(11):\n",
        "  if i % 2 == 0:\n",
        "      continue\n",
        "  print(i)"
      ],
      "execution_count": 10,
      "outputs": [
        {
          "output_type": "stream",
          "name": "stdout",
          "text": [
            "1\n",
            "3\n",
            "5\n",
            "7\n",
            "9\n"
          ]
        }
      ]
    },
    {
      "cell_type": "markdown",
      "metadata": {
        "id": "_jKHKuBkbxhX"
      },
      "source": [
        "###Recursos extra para estudiar y ejercios\n"
      ]
    },
    {
      "cell_type": "markdown",
      "metadata": {
        "id": "86XEDrCbdBCr"
      },
      "source": [
        "- Uso de [range en Python](https://www.w3schools.com/python/ref_func_range.asp)\n",
        "- Articulo corto de [Ciclos](https://pythonparanovatos.com/blog/como-usar-bucles-en-python/)\n",
        "- Ciclo for según [W3Schools](https://www.w3schools.com/python/python_for_loops.asp)\n",
        "- Ciclo while según [W3Schools](https://www.w3schools.com/python/python_while_loops.asp)\n",
        "- Ejercicios practicos en portal de [W3Schools](https://www.w3schools.com/python/python_exercises.asp)"
      ]
    }
  ]
}